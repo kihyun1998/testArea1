{
 "cells": [
  {
   "cell_type": "code",
   "execution_count": 8,
   "id": "9773c9d9",
   "metadata": {},
   "outputs": [
    {
     "name": "stdout",
     "output_type": "stream",
     "text": [
      "{'https://google.com': 'Connect', 'https://airbnb.com': 'Fail', 'https://www.naver.com': 'Connect', 'https://twitter.com': 'Connect'}\n"
     ]
    }
   ],
   "source": [
    "from requests import get\n",
    "\n",
    "webs=(\n",
    "    \"google.com\",\n",
    "    \"airbnb.com\",\n",
    "    \"https://www.naver.com\",\n",
    "    \"twitter.com\"\n",
    ")\n",
    "\n",
    "answer={}\n",
    "for web in webs:\n",
    "    if not web.startswith(\"https://\"):\n",
    "        web = f\"https://{web}\"\n",
    "    response = get(web)\n",
    "    if response.status_code == 200:\n",
    "        answer[web] = \"Connect\"\n",
    "    else:\n",
    "        answer[web] = \"Fail\"\n",
    "\n",
    "print(answer)"
   ]
  },
  {
   "cell_type": "code",
   "execution_count": null,
   "id": "b17c86d8",
   "metadata": {},
   "outputs": [],
   "source": []
  }
 ],
 "metadata": {
  "kernelspec": {
   "display_name": "Python 3 (ipykernel)",
   "language": "python",
   "name": "python3"
  },
  "language_info": {
   "codemirror_mode": {
    "name": "ipython",
    "version": 3
   },
   "file_extension": ".py",
   "mimetype": "text/x-python",
   "name": "python",
   "nbconvert_exporter": "python",
   "pygments_lexer": "ipython3",
   "version": "3.9.12"
  }
 },
 "nbformat": 4,
 "nbformat_minor": 5
}
